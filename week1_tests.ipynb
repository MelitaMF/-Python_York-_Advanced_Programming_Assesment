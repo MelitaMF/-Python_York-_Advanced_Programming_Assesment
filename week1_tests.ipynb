{
 "cells": [
  {
   "cell_type": "code",
   "execution_count": 1,
   "metadata": {},
   "outputs": [
    {
     "name": "stdout",
     "output_type": "stream",
     "text": [
      "\tEnter your number: 12\n"
     ]
    }
   ],
   "source": [
    "#1. Getting user input as an integer\n",
    "myNumber = int(input(\"\\tEnter your number: \"))"
   ]
  },
  {
   "cell_type": "code",
   "execution_count": 5,
   "metadata": {},
   "outputs": [
    {
     "name": "stdout",
     "output_type": "stream",
     "text": [
      "The even timetable for 12 is: \n",
      "\n",
      "\n",
      "         2 times 12 is 24\n",
      "         4 times 12 is 48\n",
      "         6 times 12 is 72\n",
      "         8 times 12 is 96\n",
      "        10 times 12 is 120\n",
      "        12 times 12 is 144\n",
      "        14 times 12 is 168\n",
      "        16 times 12 is 192\n",
      "        18 times 12 is 216\n",
      "        20 times 12 is 240\n",
      "        22 times 12 is 264\n",
      "        24 times 12 is 288\n",
      "        26 times 12 is 312\n",
      "        28 times 12 is 336\n",
      "        30 times 12 is 360\n",
      "        32 times 12 is 384\n",
      "        34 times 12 is 408\n",
      "        36 times 12 is 432\n",
      "        38 times 12 is 456\n",
      "        40 times 12 is 480\n",
      "        42 times 12 is 504\n"
     ]
    }
   ],
   "source": [
    "myMultiplier = 2\n",
    "print('The even timetable for', myNumber, 'is:','\\n')\n",
    "print() \n",
    "count = 0\n",
    "while count <= 20:\n",
    "  print(\"{:10d}\".format(myMultiplier), 'times', myNumber, 'is', myNumber * myMultiplier)\n",
    "  count += 1\n",
    "  myMultiplier += 2"
   ]
  },
  {
   "cell_type": "code",
   "execution_count": 6,
   "metadata": {},
   "outputs": [
    {
     "name": "stdout",
     "output_type": "stream",
     "text": [
      "*\n",
      "**\n",
      "***\n",
      "****\n"
     ]
    }
   ],
   "source": [
    "numStars = 4 ;\n",
    "spaces = numStars - 1;     \n",
    "\n",
    "for i in range(1, numStars+1):  \n",
    "    for j in range(1, i+1):\n",
    "        print(\"*\", end=\"\")\n",
    "    print()"
   ]
  },
  {
   "cell_type": "code",
   "execution_count": 10,
   "metadata": {},
   "outputs": [
    {
     "name": "stdout",
     "output_type": "stream",
     "text": [
      "      * \n",
      "    * * \n",
      "  * * * \n",
      "* * * * \n"
     ]
    }
   ],
   "source": [
    "numStars2 = 4\n",
    "spaces2 = 2 * numStars2 - 2\n",
    "\n",
    "for i in range(0, numStars2):\n",
    "    for j in range(0, spaces2):\n",
    "        print(end=\" \")\n",
    "    spaces2 = spaces2 - 2\n",
    "    for j in range(0, i + 1):\n",
    "        print(\"* \", end=\"\")\n",
    "    print(\"\")"
   ]
  },
  {
   "cell_type": "code",
   "execution_count": 11,
   "metadata": {},
   "outputs": [
    {
     "name": "stdout",
     "output_type": "stream",
     "text": [
      "        * \n",
      "       * * \n",
      "      * * * \n",
      "     * * * * \n",
      "    * * * * * \n",
      "   * * * * * * \n",
      "    * * * * * \n",
      "     * * * * \n",
      "      * * * \n",
      "       * * \n",
      "        * \n"
     ]
    }
   ],
   "source": [
    "numStas3 = 5\n",
    "spaces3 = 2 * numStas3 - 2\n",
    "\n",
    "for i in range(0, numStas3):\n",
    "    for j in range(0, spaces3):\n",
    "        print(end=\" \")\n",
    "    spaces3 = spaces3 - 1\n",
    "    for j in range(0, i + 1):\n",
    "        print(\"* \", end=\"\")\n",
    "    print(\"\")\n",
    "    \n",
    "spaces3 = numStas3 - 2\n",
    "\n",
    "for i in range(numStas3, -1, -1):\n",
    "    for j in range(spaces3, 0, -1):\n",
    "        print(end=\" \")\n",
    "    spaces3 = spaces3 + 1\n",
    "    for j in range(0, i + 1):\n",
    "        print(\"* \", end=\"\")\n",
    "    print(\"\")"
   ]
  },
  {
   "cell_type": "code",
   "execution_count": 14,
   "metadata": {},
   "outputs": [
    {
     "name": "stdout",
     "output_type": "stream",
     "text": [
      "\tEnter number of days in month (28/30/31): 30\n",
      "\tEnter day of the week (Monday is 1, Tuesday is 2 etc.): 3\n"
     ]
    }
   ],
   "source": [
    "myDaysMonth = int(input('\\tEnter number of days in month (28/30/31): '))\n",
    "myDay = int(input('\\tEnter day of the week (Monday is 1, Tuesday is 2 etc.): '))"
   ]
  },
  {
   "cell_type": "code",
   "execution_count": 74,
   "metadata": {},
   "outputs": [
    {
     "name": "stdout",
     "output_type": "stream",
     "text": [
      "M   T   W  Th   F   S  Su\n",
      "spacespace\n",
      "1234\n",
      "1234\n",
      "1234\n",
      "1234\n",
      "1234\n",
      "1234\n",
      "1234\n"
     ]
    }
   ],
   "source": [
    "numDays = 7\n",
    "numDaysRow = 7 - myDay\n",
    "spaces4 = 0\n",
    "day = 1\n",
    "x = 'space'\n",
    "\n",
    "print('M   T   W  Th   F   S  Su')\n",
    "print(x * (myDay - 1))\n",
    "#for i in range (0, 7):\n",
    " #   while day < myDaysMonth:\n",
    "  #     print(day)\n",
    "   #    day += 1 \n",
    "for i in range(0, numDays):\n",
    "    for j in range(0, numDaysRow):\n",
    "        print(j + 1, end=\"\")\n",
    "    print(\"\")"
   ]
  },
  {
   "cell_type": "code",
   "execution_count": 89,
   "metadata": {},
   "outputs": [
    {
     "name": "stdout",
     "output_type": "stream",
     "text": [
      "           0\n",
      "          01\n",
      "         012\n",
      "        0123\n",
      "       01234\n",
      "      012345\n",
      "     0123456\n"
     ]
    }
   ],
   "source": [
    "numStas3 = 7\n",
    "spaces3 = numStas3 * 2 - myDay\n",
    "\n",
    "\n",
    "for i in range(0, numStas3):\n",
    "    for j in range(0, spaces3):\n",
    "        print(end=\" \")\n",
    "    spaces3 = spaces3 - 1\n",
    "    for j in range(0, i + 1):\n",
    "        print(j, end=\"\")\n",
    "    print(\"\")"
   ]
  },
  {
   "cell_type": "code",
   "execution_count": null,
   "metadata": {},
   "outputs": [
    {
     "name": "stdout",
     "output_type": "stream",
     "text": [
      "\n",
      "    Enter a number to interact with list in stack format:\n",
      "    1.Push\n",
      "    2.Pop\n",
      "    3.View\n",
      "    4.Exit/Quit\n",
      "    \n",
      "What would you like to do? 7\n",
      "\n",
      " Not Valid Choice Try again\n",
      "\n",
      "    Enter a number to interact with list in stack format:\n",
      "    1.Push\n",
      "    2.Pop\n",
      "    3.View\n",
      "    4.Exit/Quit\n",
      "    \n"
     ]
    }
   ],
   "source": [
    "#List of four elements\n",
    "listW1A4E1  = ['elephant', 'panda', 'mouse', 'penguin']\n",
    "\n",
    "ans=True\n",
    "while ans:\n",
    "    print(\"\"\"\n",
    "    Enter a number to interact with list in stack format:\n",
    "    1.Push\n",
    "    2.Pop\n",
    "    3.View\n",
    "    4.Exit/Quit\n",
    "    \"\"\")\n",
    "    ans = input(\"What would you like to do? \")\n",
    "    if ans=='1':\n",
    "        #push\n",
    "        myPush = input('\\tPush: ')\n",
    "        listW1A4E1.append(myPush)\n",
    "        print('1. You pushed an item, new list is: ', listW1A4E1)\n",
    "    elif ans=='2':\n",
    "        #pop\n",
    "        listW1A4E1.pop()\n",
    "        print('2. You popped an item, new list is: ', listW1A4E1)\n",
    "    elif ans=='3':\n",
    "        #view\n",
    "        print('3. The whole list is: ', listW1A4E1)\n",
    "    elif ans=='4':\n",
    "        #quit\n",
    "        print('\\n Goodbye') \n",
    "        ans = None\n",
    "    else:\n",
    "        print('\\n Not valid choice, enter 1 - 4')"
   ]
  },
  {
   "cell_type": "code",
   "execution_count": null,
   "metadata": {},
   "outputs": [
    {
     "name": "stdout",
     "output_type": "stream",
     "text": [
      "\n",
      "    Enter a number to interact with list in queue format:\n",
      "    1.Enqueue\n",
      "    2.Dequeue\n",
      "    3.View\n",
      "    4.Exit/Quit\n",
      "    \n",
      "What would you like to do? 3\n",
      "3. The whole list is:  ['elephant', 'panda', 'mouse', 'penguin']\n",
      "\n",
      "    Enter a number to interact with list in queue format:\n",
      "    1.Enqueue\n",
      "    2.Dequeue\n",
      "    3.View\n",
      "    4.Exit/Quit\n",
      "    \n",
      "What would you like to do? 1\n",
      "\tEnqueue: Cat\n",
      "1. You enqueued an item, new list is:  ['elephant', 'panda', 'mouse', 'penguin', 'Cat']\n",
      "\n",
      "    Enter a number to interact with list in queue format:\n",
      "    1.Enqueue\n",
      "    2.Dequeue\n",
      "    3.View\n",
      "    4.Exit/Quit\n",
      "    \n",
      "What would you like to do? 2\n",
      "2. You dequeued an item, new list is:  ['panda', 'mouse', 'penguin', 'Cat']\n",
      "\n",
      "    Enter a number to interact with list in queue format:\n",
      "    1.Enqueue\n",
      "    2.Dequeue\n",
      "    3.View\n",
      "    4.Exit/Quit\n",
      "    \n"
     ]
    }
   ],
   "source": [
    "#List of four elements\n",
    "listW1A4E1b  = ['elephant', 'panda', 'mouse', 'penguin']\n",
    "\n",
    "ans=True\n",
    "while ans:\n",
    "    print(\"\"\"\n",
    "    Enter a number to interact with list in queue format:\n",
    "    1.Enqueue\n",
    "    2.Dequeue\n",
    "    3.View\n",
    "    4.Exit/Quit\n",
    "    \"\"\")\n",
    "    ans = input(\"What would you like to do? \")\n",
    "    if ans=='1':\n",
    "        #enqueue\n",
    "        myEnqueue = input('\\tEnqueue: ')\n",
    "        listW1A4E1b.append(myEnqueue)\n",
    "        print('1. You enqueued an item, new list is: ', listW1A4E1b)\n",
    "    elif ans=='2':\n",
    "        #dequeue\n",
    "        listW1A4E1b.pop(0)\n",
    "        print('2. You dequeued an item, new list is: ', listW1A4E1b)\n",
    "    elif ans=='3':\n",
    "        #view\n",
    "        print('3. The whole list is: ', listW1A4E1b)\n",
    "    elif ans=='4':\n",
    "        #quit\n",
    "        print('\\n Goodbye') \n",
    "        ans = None\n",
    "    else:\n",
    "        print('\\n Not valid choice, enter 1 - 4')"
   ]
  },
  {
   "cell_type": "code",
   "execution_count": 5,
   "metadata": {},
   "outputs": [
    {
     "name": "stdout",
     "output_type": "stream",
     "text": [
      "Quarterly sales report\n",
      "\n",
      "London              L3 : $ 371        $ 1114      \n",
      "Paris               P2 : $ 273        $ 820       \n",
      "New York            N6 : $ 463        $ 1390      \n",
      "Beijing             B8 : $ 446        $ 1340      \n",
      "\n",
      "Apr18                  : $ 392        $ 1570      \n",
      "May18                  : $ 401        $ 1605      \n",
      "Jun18                  : $ 372        $ 1489      \n",
      "\n",
      "Total 4664\n"
     ]
    }
   ],
   "source": [
    "#Creating a matrix\n",
    "matrix = [[\"Apr18\", \"May18\", \"Jun18\"],\n",
    "          [\"L3\", \"P2\", \"N6\", \"B8\"],\n",
    "          [\"London\", \"Paris\", \"New York\", \"Beijing\"],           \n",
    "          [390, 345, 379],\n",
    "          [250, 270, 300],\n",
    "          [460, 480, 450],\n",
    "          [470, 510, 360]]\n",
    "\n",
    "#L3\n",
    "l3Apr18 = (matrix[3][0])\n",
    "l3May18 = (matrix[3][1])\n",
    "l3Jun18 = (matrix[3][2])\n",
    "l3Total = l3Apr18 + l3May18 + l3Jun18\n",
    "l3Average = l3Total / 3\n",
    "\n",
    "#P2\n",
    "p2Apr18 = (matrix[4][0])\n",
    "p2May18 = (matrix[4][1])\n",
    "p2Jun18 = (matrix[4][2])\n",
    "p2Total = p2Apr18 + p2May18 + p2Jun18\n",
    "p2Average = p2Total / 3\n",
    "\n",
    "#N6\n",
    "n6Apr18 = (matrix[5][0])\n",
    "n6May18 = (matrix[5][1])\n",
    "n6Jun18 = (matrix[5][2])\n",
    "n6Total = n6Apr18 + n6May18 + n6Jun18\n",
    "n6Average = n6Total / 3\n",
    "\n",
    "#B8\n",
    "b8Apr18 = (matrix[6][0])\n",
    "b8May18 = (matrix[6][1])\n",
    "b8Jun18 = (matrix[6][2])\n",
    "b8Total = b8Apr18 + b8May18 + b8Jun18\n",
    "b8Average = b8Total / 3\n",
    "\n",
    "#Apr18\n",
    "totalApr18 = l3Apr18 + p2Apr18 + n6Apr18 + b8Apr18\n",
    "averageApr18 = totalApr18 / 4\n",
    "#May18\n",
    "totalMay18 = l3May18 + p2May18 + n6May18 + b8May18\n",
    "averageMay18 = totalMay18 / 4\n",
    "#Jun18\n",
    "totalJun18 = l3Jun18 + p2Jun18 + n6Jun18 + b8Jun18\n",
    "averageJun18 = totalJun18 / 4\n",
    "#Total\n",
    "total = l3Total + p2Total + n6Total + b8Total\n",
    "\n",
    "print(\"Quarterly sales report\")\n",
    "print(\"\")\n",
    "print('{:20s}{}'.format(matrix[2][0], matrix[1][0]), \":\", \"$\", '{:<10d}'.format(int(l3Average)), \"$\", '{:<10d}'.format(int(l3Total)))\n",
    "print('{:20s}{}'.format(matrix[2][1], matrix[1][1]), \":\", \"$\", '{:<10d}'.format(int(p2Average)),  \"$\", '{:<10d}'.format(int(p2Total)))\n",
    "print('{:20s}{}'.format(matrix[2][2], matrix[1][2]), \":\", \"$\", '{:<10d}'.format(int(n6Average)),  \"$\", '{:<10d}'.format(int(n6Total)))\n",
    "print('{:20s}{}'.format(matrix[2][3], matrix[1][3]), \":\", \"$\", '{:<10d}'.format(int(b8Average)), \"$\",  '{:<10d}'.format(int(b8Total)))\n",
    "print(\"\")\n",
    "print('{:22s}'.format(matrix[0][0]), \":\", \"$\",  '{:<10d}'.format(int(averageApr18)), \"$\", '{:<10d}'.format(int(totalApr18)))\n",
    "print('{:22s}'.format(matrix[0][1]), \":\", \"$\",  '{:<10d}'.format(int(averageMay18)), \"$\", '{:<10d}'.format(int(totalMay18)))\n",
    "print('{:22s}'.format(matrix[0][2]), \":\",  \"$\", '{:<10d}'.format(int(averageJun18)), \"$\", '{:<10d}'.format(int(totalJun18)))\n",
    "print(\"\")\n",
    "print(\"Total\", int(total))\n"
   ]
  },
  {
   "cell_type": "code",
   "execution_count": 25,
   "metadata": {},
   "outputs": [
    {
     "name": "stdout",
     "output_type": "stream",
     "text": [
      "Enter sentence below\n",
      "\tmelita tipkaa\n",
      "['m', 'e', 'l', 'i', 't', 'a', ' ', 't', 'i', 'p', 'k', 'a', 'a']\n",
      "{'letters': ['m', 'e', 'l', 'i', 't', 'a', ' ', 't', 'i', 'p', 'k', 'a', 'a']}\n",
      "\tletters is ['m', 'e', 'l', 'i', 't', 'a', ' ', 't', 'i', 'p', 'k', 'a', 'a']\n",
      "and is 56 in these vaues? False\n",
      "42. My name is False\n",
      "[]\n"
     ]
    }
   ],
   "source": [
    "listA = []\n",
    "listE = []\n",
    "listI = []\n",
    "listO = []\n",
    "listU = []\n",
    "\n",
    "print(\"Enter sentence below\")\n",
    "mySentance = input('\\t')\n",
    "listSentance = list(mySentance)\n",
    "print(listSentance)\n",
    "dictionary = {'letters': listSentance}\n",
    "print(dictionary)\n",
    "\n",
    "values = dictionary.values()\n",
    "count = len(listSentance)\n",
    "for key, value in dictionary.items():\n",
    "    print(f\"\\t{key} is {value}\")\n",
    "    \n",
    "print(\"and is 56 in these vaues?\", 'a' in values)\n",
    "print(\"42. My name is\", 'a' in dictionary)\n",
    "\n",
    "    \n",
    "print(listA)\n",
    "#print(listE)\n",
    "#print(listI)\n",
    "#print(listO)\n",
    "#print(listU)\n",
    "  "
   ]
  },
  {
   "cell_type": "code",
   "execution_count": 26,
   "metadata": {},
   "outputs": [
    {
     "name": "stdout",
     "output_type": "stream",
     "text": [
      "Enter sentence below\n",
      "\tmelita tipka\n"
     ]
    },
    {
     "ename": "TypeError",
     "evalue": "unhashable type: 'list'",
     "output_type": "error",
     "traceback": [
      "\u001b[1;31m---------------------------------------------------------------------------\u001b[0m",
      "\u001b[1;31mTypeError\u001b[0m                                 Traceback (most recent call last)",
      "\u001b[1;32m<ipython-input-26-b1b1aaa2157c>\u001b[0m in \u001b[0;36m<module>\u001b[1;34m\u001b[0m\n\u001b[0;32m      2\u001b[0m \u001b[0mmySentance\u001b[0m \u001b[1;33m=\u001b[0m \u001b[0minput\u001b[0m\u001b[1;33m(\u001b[0m\u001b[1;34m'\\t'\u001b[0m\u001b[1;33m)\u001b[0m\u001b[1;33m\u001b[0m\u001b[1;33m\u001b[0m\u001b[0m\n\u001b[0;32m      3\u001b[0m \u001b[0mlistSentance\u001b[0m \u001b[1;33m=\u001b[0m \u001b[0mlist\u001b[0m\u001b[1;33m(\u001b[0m\u001b[0mmySentance\u001b[0m\u001b[1;33m)\u001b[0m\u001b[1;33m\u001b[0m\u001b[1;33m\u001b[0m\u001b[0m\n\u001b[1;32m----> 4\u001b[1;33m \u001b[0ma\u001b[0m \u001b[1;33m=\u001b[0m \u001b[1;33m{\u001b[0m\u001b[0ma\u001b[0m\u001b[1;33m}\u001b[0m\u001b[1;33m\u001b[0m\u001b[1;33m\u001b[0m\u001b[0m\n\u001b[0m\u001b[0;32m      5\u001b[0m \u001b[0me\u001b[0m \u001b[1;33m=\u001b[0m \u001b[1;33m{\u001b[0m\u001b[0me\u001b[0m\u001b[1;33m}\u001b[0m\u001b[1;33m\u001b[0m\u001b[1;33m\u001b[0m\u001b[0m\n\u001b[0;32m      6\u001b[0m \u001b[0mbyThree\u001b[0m  \u001b[1;33m=\u001b[0m \u001b[1;33m{\u001b[0m\u001b[1;36m3\u001b[0m\u001b[1;33m,\u001b[0m\u001b[1;36m6\u001b[0m\u001b[1;33m,\u001b[0m\u001b[1;36m9\u001b[0m\u001b[1;33m,\u001b[0m\u001b[1;36m12\u001b[0m\u001b[1;33m,\u001b[0m\u001b[1;36m15\u001b[0m\u001b[1;33m}\u001b[0m\u001b[1;33m\u001b[0m\u001b[1;33m\u001b[0m\u001b[0m\n",
      "\u001b[1;31mTypeError\u001b[0m: unhashable type: 'list'"
     ]
    }
   ],
   "source": [
    "print(\"Enter sentence below\")\n",
    "mySentance = input('\\t')\n",
    "listSentance = list(mySentance)\n",
    "a = {a}\n",
    "e = {e}\n",
    "byThree  = {3,6,9,12,15}\n",
    "numbers = {mySentance}\n",
    "\n",
    "#38. Testing membership within a set\n",
    "print(\"38. Testing membership within a set\")\n",
    "test1 = mySentance[0]\n",
    "\n",
    "sets = {\"a\": a, \"e\": e}\n",
    "    \n",
    "for key in sets:\n",
    "    members = sets.get(key)\n",
    "    if members < numbers:\n",
    "        print(f\"{key} is a proper subset of numbers\")\n",
    "    elif members <= numbers:\n",
    "        print(f\"{key} is a just a subset of numbers\")\n",
    "    else:\n",
    "        print(f\"{key} is NOT a subset of numbers\")"
   ]
  },
  {
   "cell_type": "code",
   "execution_count": null,
   "metadata": {},
   "outputs": [],
   "source": []
  }
 ],
 "metadata": {
  "kernelspec": {
   "display_name": "Python 3",
   "language": "python",
   "name": "python3"
  },
  "language_info": {
   "codemirror_mode": {
    "name": "ipython",
    "version": 3
   },
   "file_extension": ".py",
   "mimetype": "text/x-python",
   "name": "python",
   "nbconvert_exporter": "python",
   "pygments_lexer": "ipython3",
   "version": "3.7.4"
  }
 },
 "nbformat": 4,
 "nbformat_minor": 2
}
